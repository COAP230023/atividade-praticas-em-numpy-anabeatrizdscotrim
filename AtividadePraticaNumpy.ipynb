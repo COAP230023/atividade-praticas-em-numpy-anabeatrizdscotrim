{
  "nbformat": 4,
  "nbformat_minor": 0,
  "metadata": {
    "colab": {
      "provenance": [],
      "authorship_tag": "ABX9TyOyOsE4BwJO+vTonyTyvl9f",
      "include_colab_link": true
    },
    "kernelspec": {
      "name": "python3",
      "display_name": "Python 3"
    },
    "language_info": {
      "name": "python"
    }
  },
  "cells": [
    {
      "cell_type": "markdown",
      "metadata": {
        "id": "view-in-github",
        "colab_type": "text"
      },
      "source": [
        "<a href=\"https://colab.research.google.com/github/COAP230023/atividade-praticas-em-numpy-anabeatrizdscotrim/blob/main/AtividadePraticaNumpy.ipynb\" target=\"_parent\"><img src=\"https://colab.research.google.com/assets/colab-badge.svg\" alt=\"Open In Colab\"/></a>"
      ]
    },
    {
      "cell_type": "code",
      "execution_count": 23,
      "metadata": {
        "id": "hP8bGqYxHG8F",
        "colab": {
          "base_uri": "https://localhost:8080/"
        },
        "outputId": "c155a2b8-2609-4879-b04e-4c39bdb94056"
      },
      "outputs": [
        {
          "output_type": "stream",
          "name": "stdout",
          "text": [
            "float64\n",
            "(10,)\n",
            "float64\n",
            "[0 1 2 3 4 5 6 7 8 9]\n",
            "[[0 1 2]\n",
            " [3 4 5]\n",
            " [6 7 8]]\n",
            "(array([0, 1, 4]),)\n",
            "[0.         0.09090909 0.18181818 0.27272727 0.36363636 0.45454545\n",
            " 0.54545455 0.63636364 0.72727273 0.81818182 0.90909091 1.        ]\n",
            "[[1. 0. 0. 0. 0.]\n",
            " [0. 1. 0. 0. 0.]\n",
            " [0. 0. 1. 0. 0.]\n",
            " [0. 0. 0. 1. 0.]\n",
            " [0. 0. 0. 0. 1.]]\n",
            "[[[0.77395605 0.43887844 0.85859792]\n",
            "  [0.69736803 0.09417735 0.97562235]\n",
            "  [0.7611397  0.78606431 0.12811363]]\n",
            "\n",
            " [[0.45038594 0.37079802 0.92676499]\n",
            "  [0.64386512 0.82276161 0.4434142 ]\n",
            "  [0.22723872 0.55458479 0.06381726]]\n",
            "\n",
            " [[0.82763117 0.6316644  0.75808774]\n",
            "  [0.35452597 0.97069802 0.89312112]\n",
            "  [0.7783835  0.19463871 0.466721  ]]]\n",
            "0.007362269751005512\n",
            "0.9691763773477239\n"
          ]
        }
      ],
      "source": [
        "import numpy as np\n",
        "\n",
        "#Crie um array 1D com 10 zeros usando NumPy e mostre o dtype e o shape.\n",
        "array = np.zeros((10,))\n",
        "print(array.dtype)\n",
        "print(array.shape)\n",
        "# dtype: tipo de dado\n",
        "#shape: dimensões do array\n",
        "\n",
        "#Crie um array 1D com 10 uns e transforme-o em float64.\n",
        "arrayOne = np.ones((10), dtype=np.float64)\n",
        "print(arrayOne.dtype)\n",
        "\n",
        "#Crie um array com os inteiros de 0 a 9 (inclusive)\n",
        "arrayInteiros = np.array([0,1,2,3,4,5,6,7,8,9], dtype=int)\n",
        "print(arrayInteiros)\n",
        "\n",
        "#Crie um array 3×3 com os valores 0…8 (reshape).\n",
        "arrayReshape = np.array([0,1,2,3,4,5,6,7,8], dtype=int).reshape(3,3)\n",
        "print(arrayReshape)\n",
        "\n",
        "#Dado o vetor `v = np.array([1,2,0,0,4,0])`, encontre os índices dos elementos não nulos.\n",
        "v = np.array([1,2,0,0,4,0])\n",
        "i = np.nonzero(v)\n",
        "print (i)\n",
        "\n",
        "#Crie um vetor de 12 pontos igualmente espaçados no intervalo [0, 1].\n",
        "vetor = np.linspace(0,1,12)\n",
        "print(vetor)\n",
        "\n",
        "#Crie uma matriz identidade de ordem 5.\n",
        "matrizIdentidade = np.eye(5)\n",
        "print(matrizIdentidade)\n",
        "\n",
        "#Gere um array 3×3×3 com valores aleatórios uniformes em [0,1). Use `np.random.default_rng(42)`.\n",
        "rng = np.random.default_rng(42)\n",
        "arrayA = rng.random((3,3,3))\n",
        "print(arrayA)\n",
        "\n",
        "#Crie uma matriz 10×10 de aleatórios uniformes e mostre o valor mínimo e máximo.\n",
        "matrizA = rng.random((10,10,))\n",
        "print(np.min(matrizA))\n",
        "print(np.max(matrizA))\n",
        "\n",
        "#Dado `x = [1,2,3,4,5]`, crie um array float e normalize para média 0 e desvio 1.\n",
        "x = np.array([1,2,3,4,5])\n",
        "arrayFloat = np.array(x, dtype=np.float64)\n",
        "\n",
        "\n",
        "\n",
        "\n",
        "\n",
        "\n",
        "\n",
        "\n"
      ]
    },
    {
      "cell_type": "markdown",
      "source": [],
      "metadata": {
        "id": "tlPiFRydBHBv"
      }
    }
  ]
}