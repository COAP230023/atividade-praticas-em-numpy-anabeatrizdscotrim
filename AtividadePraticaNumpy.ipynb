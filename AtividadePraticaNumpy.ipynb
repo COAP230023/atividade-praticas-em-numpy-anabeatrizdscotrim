{
  "nbformat": 4,
  "nbformat_minor": 0,
  "metadata": {
    "colab": {
      "provenance": [],
      "authorship_tag": "ABX9TyPkHxUddq70DJaK3jJXbrJC",
      "include_colab_link": true
    },
    "kernelspec": {
      "name": "python3",
      "display_name": "Python 3"
    },
    "language_info": {
      "name": "python"
    }
  },
  "cells": [
    {
      "cell_type": "markdown",
      "metadata": {
        "id": "view-in-github",
        "colab_type": "text"
      },
      "source": [
        "<a href=\"https://colab.research.google.com/github/COAP230023/atividade-praticas-em-numpy-anabeatrizdscotrim/blob/main/AtividadePraticaNumpy.ipynb\" target=\"_parent\"><img src=\"https://colab.research.google.com/assets/colab-badge.svg\" alt=\"Open In Colab\"/></a>"
      ]
    },
    {
      "cell_type": "code",
      "execution_count": null,
      "metadata": {
        "id": "hP8bGqYxHG8F",
        "colab": {
          "base_uri": "https://localhost:8080/"
        },
        "outputId": "88b02018-0dee-4993-9399-7a64a47b4d8c"
      },
      "outputs": [
        {
          "output_type": "stream",
          "name": "stdout",
          "text": [
            "float64\n",
            "(10,)\n",
            "float64\n",
            "[0 1 2 3 4 5 6 7 8 9]\n",
            "[[0 1 2]\n",
            " [3 4 5]\n",
            " [6 7 8]]\n",
            "<function zeros_like at 0x7a717cc09940>\n"
          ]
        }
      ],
      "source": [
        "import numpy as np\n",
        "\n",
        "#Crie um array 1D com 10 zeros usando NumPy e mostre o dtype e o shape.\n",
        "array = np.zeros((10,))\n",
        "print(array.dtype)\n",
        "print(array.shape)\n",
        "# dtype: tipo de dado\n",
        "#shape: dimensões do array\n",
        "\n",
        "#Crie um array 1D com 10 uns e transforme-o em float64.\n",
        "arrayOne = np.ones((10), dtype=np.float64)\n",
        "print(arrayOne.dtype)\n",
        "\n",
        "#Crie um array com os inteiros de 0 a 9 (inclusive)\n",
        "arrayInteiros = np.array([0,1,2,3,4,5,6,7,8,9], dtype=int)\n",
        "print(arrayInteiros)\n",
        "\n",
        "#Crie um array 3×3 com os valores 0…8 (reshape).\n",
        "arrayReshape = np.array([0,1,2,3,4,5,6,7,8], dtype=int).reshape(3,3)\n",
        "print(arrayReshape)\n",
        "\n",
        "#Dado o vetor `v = np.array([1,2,0,0,4,0])`, encontre os índices dos elementos não nulos.\n",
        "v = np.array([1,2,0,0,4,0])\n",
        "i = np.non\n",
        "print (i)\n",
        "\n",
        "#Dado o vetor `v = np.array([1,2,0,0,4,0])`, encontre os índices dos elementos não nulos.\n",
        "\n",
        "\n",
        "\n"
      ]
    },
    {
      "cell_type": "markdown",
      "source": [],
      "metadata": {
        "id": "tlPiFRydBHBv"
      }
    }
  ]
}